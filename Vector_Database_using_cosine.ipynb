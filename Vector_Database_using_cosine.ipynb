{
 "cells": [
  {
   "cell_type": "code",
   "execution_count": 60,
   "id": "6cf70e2f-c14f-466f-80ae-052249951cff",
   "metadata": {},
   "outputs": [],
   "source": [
    "import numpy as np\n",
    "\n",
    "class VectorStore:\n",
    "    def __init__(self):\n",
    "        self.vector_data = {}\n",
    "        self.vector_index = {}\n",
    "\n",
    "    def add_vector(self, vector_id, vector):\n",
    "        self.vector_data[vector_id] = vector\n",
    "        self._update_index(vector_id, vector)\n",
    "\n",
    "    def cosine_similarity(self, vector, existing_vector):\n",
    "        dot_product = np.dot(vector, existing_vector)\n",
    "        norm_vector = np.linalg.norm(vector)\n",
    "        norm_existing_vector = np.linalg.norm(existing_vector)\n",
    "        similarity = dot_product / (norm_vector * norm_existing_vector)\n",
    "        return similarity\n",
    "\n",
    "    def _update_index(self, vector_id, vector):\n",
    "        for existing_id, existing_vector in self.vector_data.items():\n",
    "            similarity = self.cosine_similarity(vector, existing_vector)\n",
    "            if vector_id not in self.vector_index:\n",
    "                self.vector_index[vector_id] = {}\n",
    "            if existing_id not in self.vector_index:\n",
    "                self.vector_index[existing_id] = {}\n",
    "            self.vector_index[vector_id][existing_id] = similarity\n",
    "            self.vector_index[existing_id][vector_id] = similarity\n",
    "\n",
    "    def find_similar_vectors(self, query_vector, num_results = 5):\n",
    "        results = []\n",
    "        try:\n",
    "            for vector_id, vector in self.vector_data.items():\n",
    "                results.append((vector_id, self.cosine_similarity(vector, query_vector)))\n",
    "\n",
    "            results.sort(key = lambda x: x[1], reverse = True)\n",
    "            return results[:num_results]\n",
    "            \n",
    "        except KeyError:\n",
    "            return None\n",
    "            \n",
    "    def get_vector(self, vector_id):\n",
    "        return (self.vector_data.get(vector_id), self.vector_index.get(vector_id).items())\n",
    "            "
   ]
  },
  {
   "cell_type": "code",
   "execution_count": 61,
   "id": "cdd23a4b-5269-41a8-aa77-f0d22a53b02c",
   "metadata": {},
   "outputs": [],
   "source": [
    "# Establish a VectorStore instance\n",
    "vector_store = VectorStore()\n",
    "\n",
    "# Define sentences\n",
    "sentences = [  # Defining a list of example sentences\n",
    "    \"I eat mango\",\n",
    "    \"mango is my favorite fruit\",\n",
    "    \"mango, apple, oranges are fruits\",\n",
    "    \"fruits are good for health\",\n",
    "]\n",
    "\n",
    "# Tokenization and Vocabulary Creation\n",
    "vocabulary = set()\n",
    "for sentence in sentences:\n",
    "    tokens = sentence.lower().split(\" \")\n",
    "    vocabulary.update(tokens)\n",
    "\n",
    "# Assign unique indices to vocabulary words\n",
    "word_to_index = {word: i for i, word in enumerate(vocabulary)}\n",
    "\n",
    "# Vectorization\n",
    "sentence_vectors = {}\n",
    "for sentence in sentences:\n",
    "    tokens = sentence.lower().split(\" \")\n",
    "    vector = np.zeros(len(vocabulary))\n",
    "    for token in tokens:\n",
    "        vector[word_to_index[token]] += 1\n",
    "    sentence_vectors[sentence] = vector\n",
    "\n",
    "# Store in VectorStore\n",
    "for sentence, vector in sentence_vectors.items():  # Iterating over each sentence vector\n",
    "    vector_store.add_vector(sentence, vector) "
   ]
  },
  {
   "cell_type": "code",
   "execution_count": 62,
   "id": "b333da59-10cc-4315-867a-b2a7af5ffdbc",
   "metadata": {},
   "outputs": [
    {
     "name": "stdout",
     "output_type": "stream",
     "text": [
      "Query Sentence: Mango is the best fruit\n",
      "Similar Sentences:\n",
      "mango is my favorite fruit: Similarity = 0.7746\n",
      "I eat mango: Similarity = 0.3333\n"
     ]
    }
   ],
   "source": [
    "# Similarity Search\n",
    "query_sentence = \"Mango is the best fruit\"  \n",
    "query_vector = np.zeros(len(vocabulary))  \n",
    "query_tokens = query_sentence.lower().split()  \n",
    "for token in query_tokens:  \n",
    "    if token in word_to_index:  \n",
    "        query_vector[word_to_index[token]] += 1  \n",
    "\n",
    "similar_sentences = vector_store.find_similar_vectors(query_vector, num_results=2)  # Finding similar sentences\n",
    "\n",
    "# Display similar sentences\n",
    "print(\"Query Sentence:\", query_sentence)  \n",
    "print(\"Similar Sentences:\")  \n",
    "for sentence, similarity in similar_sentences:  \n",
    "    print(f\"{sentence}: Similarity = {similarity:.4f}\") "
   ]
  },
  {
   "cell_type": "code",
   "execution_count": 63,
   "id": "58e2c6ee-bc9f-431d-834c-b8a4e58b0786",
   "metadata": {},
   "outputs": [
    {
     "data": {
      "text/plain": [
       "(array([1., 0., 0., 0., 1., 0., 0., 0., 0., 0., 0., 0., 1., 0., 0.]),\n",
       " dict_items([('I eat mango', 1.0000000000000002), ('mango is my favorite fruit', 0.2581988897471611), ('mango, apple, oranges are fruits', 0.0), ('fruits are good for health', 0.0)]))"
      ]
     },
     "execution_count": 63,
     "metadata": {},
     "output_type": "execute_result"
    }
   ],
   "source": [
    "vector_store.get_vector(\"I eat mango\")"
   ]
  },
  {
   "cell_type": "markdown",
   "id": "7b14f493-2164-490d-a2f4-6fc1ade8cb6b",
   "metadata": {},
   "source": [
    "Inspired by - https://medium.com/@vidiptvashist/building-a-vector-database-from-scratch-in-python-6bd683ba5171"
   ]
  }
 ],
 "metadata": {
  "kernelspec": {
   "display_name": "Python 3 (ipykernel)",
   "language": "python",
   "name": "python3"
  },
  "language_info": {
   "codemirror_mode": {
    "name": "ipython",
    "version": 3
   },
   "file_extension": ".py",
   "mimetype": "text/x-python",
   "name": "python",
   "nbconvert_exporter": "python",
   "pygments_lexer": "ipython3",
   "version": "3.11.9"
  }
 },
 "nbformat": 4,
 "nbformat_minor": 5
}
